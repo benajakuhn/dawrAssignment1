{
 "cells": [
  {
   "metadata": {},
   "cell_type": "code",
   "outputs": [],
   "execution_count": null,
   "source": "",
   "id": "7f941ba920739677"
  },
  {
   "metadata": {},
   "cell_type": "markdown",
   "source": [
    "# Datenquellen:\n",
    "\n",
    "1: Bundesamt für Statistik, Regionalporträts 2021: Kennzahlen aller Gemeinden: https://www.bfs.admin.ch/bfs/de/home/statistiken/regionalstatistik/regionale-portraets-kennzahlen/gemeinden/daten-erlaeuterungen.assetdetail.15864450.html\n",
    "\n",
    "2: Aktueller Gemeindestand: https://www.agvchapp.bfs.admin.ch/de\n"
   ],
   "id": "f4611b5eeafeb37"
  }
 ],
 "metadata": {},
 "nbformat": 5,
 "nbformat_minor": 9
}
